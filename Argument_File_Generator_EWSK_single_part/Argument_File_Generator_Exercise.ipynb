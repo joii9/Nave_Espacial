{
 "cells": [
  {
   "cell_type": "markdown",
   "id": "6aceebe8",
   "metadata": {},
   "source": [
    "# Argument File Generator"
   ]
  },
  {
   "cell_type": "markdown",
   "id": "e6eb38d4",
   "metadata": {},
   "source": [
    "# Torque Bias\n",
    "\n",
    "## RECONSTRUCTION\n",
    "Maniobra de referencia "
   ]
  },
  {
   "cell_type": "code",
   "execution_count": 12,
   "id": "0298535d",
   "metadata": {
    "collapsed": true,
    "jupyter": {
     "outputs_hidden": true
    }
   },
   "outputs": [],
   "source": [
    "def get_maneuver():\n",
    "    manv= input(\"Maniobra a calcular: \\n\")#NSSK0812\n",
    "    return manv"
   ]
  },
  {
   "cell_type": "code",
   "execution_count": 13,
   "id": "8792d82d",
   "metadata": {
    "collapsed": false,
    "jupyter": {
     "outputs_hidden": false
    },
    "scrolled": true
   },
   "outputs": [
    {
     "name": "stdout",
     "output_type": "stream",
     "text": [
      "Maniobra a calcular: \n",
      "NSSK0812\n"
     ]
    }
   ],
   "source": [
    "manv= get_maneuver()"
   ]
  },
  {
   "cell_type": "code",
   "execution_count": 14,
   "id": "b98050b6",
   "metadata": {
    "collapsed": true,
    "jupyter": {
     "outputs_hidden": true
    }
   },
   "outputs": [],
   "source": [
    "def get_manRef():\n",
    "    manv_ref= input(\"Maniobra de referencia: \\n\")#NSSK0811\n",
    "    return manv_ref"
   ]
  },
  {
   "cell_type": "code",
   "execution_count": 15,
   "id": "e739a875",
   "metadata": {
    "collapsed": false,
    "jupyter": {
     "outputs_hidden": false
    }
   },
   "outputs": [
    {
     "name": "stdout",
     "output_type": "stream",
     "text": [
      "Maniobra de referencia: \n",
      "NSSK0811\n"
     ]
    }
   ],
   "source": [
    "manv_ref=get_manRef()"
   ]
  },
  {
   "cell_type": "code",
   "execution_count": 32,
   "id": "53372ac4",
   "metadata": {
    "collapsed": true,
    "jupyter": {
     "outputs_hidden": true
    }
   },
   "outputs": [],
   "source": [
    "def get_file():\n",
    "    file = open(fr'V:\\mx3\\OASYS\\Archivos_Mexsat3_2025\\MNVR_Report\\mx3_{manv_ref}_REC_Duty.rpt', 'r') #referencia\n",
    "    content = file.read()\n",
    "    file.close()\n",
    "    print(content)\n",
    "    return content"
   ]
  },
  {
   "cell_type": "code",
   "execution_count": 33,
   "id": "30986f0f",
   "metadata": {
    "collapsed": false,
    "jupyter": {
     "outputs_hidden": false
    }
   },
   "outputs": [
    {
     "name": "stdout",
     "output_type": "stream",
     "text": [
      "\n",
      "\n",
      "                     Maneuver Service Report\n",
      "\n",
      "            Version: OASYS v10.3.3 (September 26, 2012), Kratos Integral Systems International\n",
      "        Description: \n",
      "               Date: 2025/10/14 17:05:50\n",
      "               Path: /V=/mx3/OASYS/Archivos_Mexsat3_2025/MNVR_Report/mx3_NSSK0811_REC_Duty.rpt\n",
      "         Spacecraft: [mx3] Mexsat 3\n",
      "          Ephemeris: /V=/mx3/OASYS/Archivos_Mexsat3_2025/MNVR_Ephemeris/mx3_NSSK0811_REC_pTUpdate.eph\n",
      "            Equinox: True of Date FK5\n",
      "           Attitude: AttitudeReference\n",
      "\n",
      "        Maneuver[s]:         NSSK896\n",
      "             Status:         Success\n",
      "               Type:  Reconstruction\n",
      "    Command Antenna:            None\n",
      "       Thruster Cfg:      DV_EHT_ODD\n",
      "        Thruster[s]:           EHT13\n",
      "                               EHT15\n",
      "\n",
      "        Firing Mode:      Continuous\n",
      "Thrust Profile Type:      Continuous\n",
      "           Ignition:      2025/10/14\n",
      "                        11:33:51.000 UTC.YmdHMs3\n",
      "           Centroid:      2025/10/14\n",
      "                        11:57:25.121 UTC.YmdHMs3\n",
      "           Duration:       2828.0030 secs\n",
      "             Cutoff:      2025/10/14\n",
      "                        12:20:59.003 UTC.YmdHMs3\n",
      "\n",
      "      Thruster Secs: \n",
      "              EHT13:       2789.5700 secs\n",
      "              EHT15:       2789.5700 secs\n",
      "              Total:       5579.1400 secs\n",
      "\n",
      "         Duty Cycle: \n",
      "              EHT13:      0.98640984 ones\n",
      "              EHT15:      0.98640984 ones\n",
      "\n",
      "  Thrust Efficiency: \n",
      "              EHT13:       1.0000000 ones\n",
      "              EHT15:       1.0000000 ones\n",
      "\n",
      "    Flow Efficiency: \n",
      "\n",
      "Thrust Coefficients:          Static\n",
      "               Ct.x:     0.019761530 ones\n",
      "               Ct.y:     -0.13486757 ones\n",
      "               Ct.z:    0.0094265600 ones\n",
      "               Ct.m:       1.0176132 ones\n",
      "\n",
      "    Net Performance: \n",
      "                Isp:       268.78583 secs\n",
      "             Thrust:      0.67190355 Nt\n",
      "          Fuel Flow:  -0.00025490591 kg/sec\n",
      "      Oxidizer Flow: \n",
      "      Mixture Ratio: \n",
      "                 dM:     -0.72087467 kg\n",
      "\n",
      "                 dV:       1.3318046 m/sec\n",
      "\n",
      "           SCB dV.x:     0.030658153 m/sec\n",
      "           SCB dV.y:       1.3313669 m/sec\n",
      "           SCB dV.z:     0.015024717 m/sec\n",
      "\n",
      "        SCB dV.x/dV:     0.023020009 ones\n",
      "        SCB dV.y/dV:      0.99967135 ones\n",
      "        SCB dV.z/dV:     0.011281473 ones\n",
      "\n",
      "        Along-Track:     0.030658153 m/sec\n",
      "        Cross-Track:      -1.3313669 m/sec\n",
      "             Radial:    -0.015024717 m/sec\n",
      "\n",
      "          Right Asc:      -155.61629 degs\n",
      "               Decl:      -88.504984 degs\n",
      "                Yaw:       88.680850 degs\n",
      "              Pitch:     -0.64639449 degs\n",
      "\n",
      "                 dH:       0.0000000 Nt-m-s\n",
      "\n",
      "           SCB dH.x:       0.0000000 Nt-m-s\n",
      "           SCB dH.y:       0.0000000 Nt-m-s\n",
      "           SCB dH.z:       0.0000000 Nt-m-s\n",
      "\n",
      "        SCB dH.x/dH:       0.0000000 ones\n",
      "        SCB dH.y/dH:       0.0000000 ones\n",
      "        SCB dH.z/dH:       0.0000000 ones\n",
      "\n",
      "\n",
      "                            Pre-Mnvr          Delta      Post-Mnvr\n",
      "\n",
      "           Dry Mass:       1159.0200      0.0000000      1159.0200 kg\n",
      "\n",
      "         Pressurant: \n",
      "        Fuel System:       1.7330000      0.0000000      1.7330000 kg\n",
      "    Oxidizer System:       4.7470000      0.0000000      4.7470000 kg\n",
      "             Unused:       0.0000000      0.0000000      0.0000000 kg\n",
      "             Unused:       0.0000000      0.0000000      0.0000000 kg\n",
      "             Unused:       0.0000000      0.0000000      0.0000000 kg\n",
      "             Unused:       0.0000000      0.0000000      0.0000000 kg\n",
      "              Total:       6.4800000      0.0000000      6.4800000 kg\n",
      "\n",
      "               Fuel: \n",
      "        Fuel System:       242.07625    -0.72087467      241.35538 kg\n",
      "                           92.534936      100.00000      92.514308 %\n",
      "    Oxidizer System:       19.529000      0.0000000      19.529000 kg\n",
      "                           7.4650642      0.0000000      7.4856917 %\n",
      "             Unused:       0.0000000      0.0000000      0.0000000 kg\n",
      "                           0.0000000      0.0000000      0.0000000 %\n",
      "             Unused:       0.0000000      0.0000000      0.0000000 kg\n",
      "                           0.0000000      0.0000000      0.0000000 %\n",
      "             Unused:       0.0000000      0.0000000      0.0000000 kg\n",
      "                           0.0000000      0.0000000      0.0000000 %\n",
      "             Unused:       0.0000000      0.0000000      0.0000000 kg\n",
      "                           0.0000000      0.0000000      0.0000000 %\n",
      "              Total:       261.60525    -0.72087467      260.88438 kg\n",
      "\n",
      "         Total Mass:       1427.1053    -0.72087467      1426.3844 kg\n",
      "\n",
      "           Pressure: \n",
      "        Fuel System:       1447.4542     -1.4250252      1446.0291 kPa\n",
      "    Oxidizer System:       1792.6369      0.0000000      1792.6369 kPa\n",
      "             Unused:       0.0000000      0.0000000      0.0000000 kPa\n",
      "             Unused:       0.0000000      0.0000000      0.0000000 kPa\n",
      "             Unused:       0.0000000      0.0000000      0.0000000 kPa\n",
      "             Unused:       0.0000000      0.0000000      0.0000000 kPa\n",
      "\n",
      "        Temperature: \n",
      "        Fuel System:       18.573781      0.0000000      18.573781 degC\n",
      "    Oxidizer System:       20.000000      0.0000000      20.000000 degC\n",
      "             Unused:       0.0000000      0.0000000      0.0000000 degC\n",
      "             Unused:       0.0000000      0.0000000      0.0000000 degC\n",
      "             Unused:       0.0000000      0.0000000      0.0000000 degC\n",
      "             Unused:       0.0000000      0.0000000      0.0000000 degC\n",
      "\n",
      "     Center Of Mass: \n",
      "                  x:   -0.0048768000      0.0000000  -0.0048768000 meters\n",
      "                  y:   -0.0081788000      0.0000000  -0.0081788000 meters\n",
      "                  z:       1.4012418      0.0000000      1.4012418 meters\n",
      "\n",
      " Center Of Pressure: \n",
      "                  x:       0.0000000      0.0000000      0.0000000 meters\n",
      "                  y:       0.0000000      0.0000000      0.0000000 meters\n",
      "                  z:       0.0000000      0.0000000      0.0000000 meters\n",
      "\n",
      "           Attitude: \n",
      "              Frame: AttitudeReference\n",
      "               Type: Fixed\n",
      "          Attd Repn: 323_Euler\n",
      "          Rate Repn: VectorRate\n",
      "\n",
      "           Euler[3]:       0.0000000      0.0000000      0.0000000 degs\n",
      "           Euler[2]:       0.0000000      0.0000000      0.0000000 degs\n",
      "           Euler[3]:       0.0000000      0.0000000      0.0000000 degs\n",
      "            Spin[1]:       0.0000000      0.0000000      0.0000000 deg/day\n",
      "            Spin[2]:       0.0000000      0.0000000      0.0000000 deg/day\n",
      "            Spin[3]:       0.0000000      0.0000000      0.0000000 deg/day\n",
      "\n",
      "              Orbit: \n",
      "              Frame: Kepler\n",
      "      Mnvr Centroid:      2025/10/14      0.0000000     2025/10/14\n",
      "                        11:57:25.121      0.0000000   11:57:25.121 UTC.YmdHMs3\n",
      "    Time of Perigee:      2025/10/14      0.0000000     2025/10/14\n",
      "                        19:15:53.094      0.0000000   18:45:26.241 UTC.YmdHMs3\n",
      "    Semi-Major Axis:       42165.231     0.84092576      42166.072 km\n",
      "       Eccentricity:       154.49470    -0.84002849      153.65467 micros\n",
      "        Inclination:     0.028403146  -0.0057222781    0.022680868 degs\n",
      "        RA Asc Node:       137.73315      56.795909      194.52906 degs\n",
      "        Arg Perigee:       60.032549      295.56916      355.60171 degs\n",
      "        Lon Perigee:       197.76570     -7.6349346      190.13077 degs\n",
      "        LST Perigee:       11.631941    -0.50899564      11.122945 hrs\n",
      "       Mean Anomaly:       250.08747      7.6354993      257.72297 degs\n",
      "       True Anomaly:       250.07083      7.6349394      257.70577 degs\n",
      "       Arg Latitude:       310.10338     -56.795905      253.30747 degs\n",
      "             Period:       1436.1224    0.042962352      1436.1654 mins\n",
      "        Mean Motion:       1.0027000 -2.9995399e-05      1.0026701 revs/day\n",
      "    Longitude Drift:       6.3129385     -10.769995     -4.4570563 mdeg/rev\n",
      "                           6.3299837     -10.798941     -4.4689569 mdeg/day\n",
      "     Perigee Radius:       42158.717     0.87621654      42159.593 km\n",
      "             Radius:       42167.451  7.2759576e-12      42167.451 km\n",
      "      Apogee Radius:       42171.745     0.80563498      42172.551 km\n",
      "           Velocity:       3074.4596    0.030660332      3074.4902 m/sec\n",
      "          Longitude:       245.19526 -2.8421709e-14      245.19526 degE\n",
      "     Mean Longitude:       245.21191  0.00056464738      245.21247 degE\n",
      "           Latitude:    -0.021747116 -1.0408341e-17   -0.021747116 degs\n",
      "           Altitude:       35789.314  1.4551915e-11      35789.314 km\n",
      "   Local Solar Time:       4.5375696 -6.2172489e-15      4.5375696 hrs\n",
      " Local Time Perigee:       11.631941    -0.50899564      11.122945 hrs\n",
      "\n",
      "                            Pre-Mnvr       Mid-Mnvr      Post-Mnvr\n",
      "      Orbit Normals: \n",
      "    Right Ascension:       47.733154      72.657836      104.52906 degs\n",
      "        Declination:       89.971597      89.977490      89.977319 degs\n",
      "\n"
     ]
    }
   ],
   "source": [
    "content= get_file()"
   ]
  },
  {
   "cell_type": "code",
   "execution_count": 34,
   "id": "36ad5bbc",
   "metadata": {
    "collapsed": true,
    "jupyter": {
     "outputs_hidden": true
    }
   },
   "outputs": [],
   "source": [
    "import re\n",
    "\n",
    "def find_data():\n",
    "    pattern_epoch=\"(\\d{4})/(\\d{2})/(\\d{2})\\s+(\\d{2}):(\\d{2}):(\\d{2}).(\\d{3})\"\n",
    "    pattern_ignition= r\"Ignition:\\s+\"+ pattern_epoch\n",
    "    pattern_findedIgnition= re.findall(pattern_ignition ,content)\n",
    "    pattern_cutoff= r\"Cutoff:\\s+\"+ pattern_epoch\n",
    "    pattern_findedCutoff= re.findall(pattern_cutoff ,content)\n",
    "    print(type(pattern_findedIgnition))\n",
    "    print(type(pattern_findedCutoff))\n",
    "    print(pattern_findedIgnition)\n",
    "    print(pattern_findedCutoff)\n",
    "    return pattern_findedIgnition, pattern_findedCutoff"
   ]
  },
  {
   "cell_type": "code",
   "execution_count": 35,
   "id": "4b13f0ac",
   "metadata": {
    "collapsed": false,
    "jupyter": {
     "outputs_hidden": false
    }
   },
   "outputs": [
    {
     "name": "stdout",
     "output_type": "stream",
     "text": [
      "<class 'list'>\n",
      "<class 'list'>\n",
      "[('2025', '10', '14', '11', '33', '51', '000')]\n",
      "[('2025', '10', '14', '12', '20', '59', '003')]\n"
     ]
    }
   ],
   "source": [
    "[Ignition, Cutoff]=find_data()"
   ]
  },
  {
   "cell_type": "markdown",
   "id": "749ebf81",
   "metadata": {},
   "source": [
    "## Get telemetry with library TLM_EPOCH"
   ]
  },
  {
   "cell_type": "code",
   "execution_count": 36,
   "id": "736eede0",
   "metadata": {
    "collapsed": false,
    "jupyter": {
     "outputs_hidden": false
    }
   },
   "outputs": [],
   "source": [
    "from TLM_EPOCH import DatoTLM\n",
    "from datetime import datetime\n",
    "\n",
    "def get_torque(n):\n",
    "    datos_torque=DatoTLM(\"mx3\",\"mx3_rt1@izopsfep3\",\"ACS_ATC_TOTAL_TRQ_\"+str(n))\n",
    "    datos_torque.tipo=\"completo\"\n",
    "    datos_torque.inicio_TLM=datetime(int(Ignition[0][0]),int(Ignition[0][1]),int(Ignition[0][2]),int(Ignition[0][3]),int(Ignition[0][4]),int(Ignition[0][5]))\n",
    "    datos_torque.final_TLM=datetime(int(Cutoff[0][0]),int(Cutoff[0][1]),int(Cutoff[0][2]),int(Cutoff[0][3]),int(Cutoff[0][4]),int(Cutoff[0][5]))\n",
    "    datos_torque.obtener_TLM()\n",
    "    return datos_torque.xs"
   ]
  },
  {
   "cell_type": "code",
   "execution_count": null,
   "id": "139d0259",
   "metadata": {
    "collapsed": false,
    "jupyter": {
     "outputs_hidden": false
    }
   },
   "outputs": [],
   "source": [
    "#datos_torque=get_torque(1)\n",
    "#print(datos_torque)\n",
    "#print(id(datos_torque))\n",
    "#print(id(get_torque(3)))"
   ]
  },
  {
   "cell_type": "code",
   "execution_count": 37,
   "id": "0607c783",
   "metadata": {
    "collapsed": false,
    "jupyter": {
     "outputs_hidden": false
    }
   },
   "outputs": [],
   "source": [
    "def average_torque(datos_torque):\n",
    "    #print(id(datos_torque))\n",
    "    list_addition= sum(datos_torque)\n",
    "    #print(list_sum)\n",
    "\n",
    "    list_len= len(datos_torque)\n",
    "    #print(list_len)\n",
    "\n",
    "    average= list_addition / list_len\n",
    "    return average"
   ]
  },
  {
   "cell_type": "code",
   "execution_count": null,
   "id": "9319ebd9",
   "metadata": {
    "collapsed": false,
    "jupyter": {
     "outputs_hidden": false
    }
   },
   "outputs": [],
   "source": [
    "#average_torque(datos_torque)"
   ]
  },
  {
   "cell_type": "code",
   "execution_count": 38,
   "id": "5bbec5d7",
   "metadata": {
    "collapsed": false,
    "jupyter": {
     "outputs_hidden": false
    },
    "scrolled": true
   },
   "outputs": [
    {
     "name": "stdout",
     "output_type": "stream",
     "text": [
      "Mnemonico Valido\n",
      "Obtencion de telemetria exitosa :)\n",
      "Mnemonico Valido\n",
      "Obtencion de telemetria exitosa :)\n",
      "Mnemonico Valido\n",
      "Obtencion de telemetria exitosa :)\n"
     ]
    }
   ],
   "source": [
    "average_torques=[average_torque(get_torque(i)) for i in range(1,4)]"
   ]
  },
  {
   "cell_type": "code",
   "execution_count": 39,
   "id": "4f98449f",
   "metadata": {
    "collapsed": false,
    "jupyter": {
     "outputs_hidden": false
    }
   },
   "outputs": [
    {
     "data": {
      "text/plain": [
       "[0.0015112709446428551, -0.001275171920053749, 0.005914713588734078]"
      ]
     },
     "execution_count": 39,
     "metadata": {},
     "output_type": "execute_result"
    }
   ],
   "source": [
    "average_torques"
   ]
  },
  {
   "cell_type": "markdown",
   "id": "ce677dd7",
   "metadata": {},
   "source": [
    "## Get SKMTool to get the historic data (Pandas)"
   ]
  },
  {
   "cell_type": "code",
   "execution_count": 13,
   "id": "70fe36e4",
   "metadata": {
    "collapsed": false,
    "jupyter": {
     "outputs_hidden": false
    }
   },
   "outputs": [],
   "source": [
    "import pandas as pd"
   ]
  },
  {
   "cell_type": "code",
   "execution_count": 87,
   "id": "2429b44f",
   "metadata": {
    "collapsed": false,
    "jupyter": {
     "outputs_hidden": false
    }
   },
   "outputs": [
    {
     "name": "stdout",
     "output_type": "stream",
     "text": [
      "     Maniobra  Torque 1  Torque 2  Torque 3 Unnamed: 4       Unnamed: 5  \\\n",
      "0     EWSK260  0.000800  0.026800 -0.000600        NaN              NaN   \n",
      "1    NSSK0261 -0.133300 -0.008300 -0.026800        NaN              NaN   \n",
      "2    EWSK0262  0.005000 -0.006000 -0.001000        NaN              NaN   \n",
      "3    NSSK0263 -0.108300 -0.007200 -0.016600        NaN              NaN   \n",
      "4    EWSK0264  0.000800  0.026800  0.000600        NaN              NaN   \n",
      "5    NSSK0265 -0.103300 -0.007200 -0.018600        NaN              NaN   \n",
      "6    NSSK0266 -0.098200  0.005400  0.049700        NaN              NaN   \n",
      "7    EWSK0267 -0.001000  0.025300 -0.000300        NaN              NaN   \n",
      "8    NSSK0268 -0.123000  0.003400  0.064700        NaN              NaN   \n",
      "9    EWSK0269 -0.001000  0.021300 -0.000800        NaN              NaN   \n",
      "10   NSSK0270 -0.129000  0.005900  0.062500        NaN              NaN   \n",
      "11   EWSK0271  0.000500  0.022900 -0.000700        NaN              NaN   \n",
      "12   NSSK0272 -0.134000  0.010900  0.044000        NaN              NaN   \n",
      "13   EWSK0273  0.004500  0.019900 -0.001700        NaN              NaN   \n",
      "14   NSSK0274 -0.133100  0.012300  0.021300        NaN              NaN   \n",
      "15   EWSK0275  0.001800  0.026900 -0.000500        NaN              NaN   \n",
      "16   EWSK0276 -0.010200 -0.021900 -0.006000        NaN              NaN   \n",
      "17   NSSK0277 -0.123100  0.016300  0.013300        NaN              NaN   \n",
      "18   EWSK0278 -0.000700  0.021900  0.022400        NaN              NaN   \n",
      "19   NSSK0279 -0.110200  0.015600  0.018100        NaN              NaN   \n",
      "20   EWSK0280 -0.002400  0.028800  0.004000        NaN              NaN   \n",
      "21   NSSK0281 -0.100200  0.016600  0.024100        NaN              NaN   \n",
      "22   EWSK0282 -0.007400  0.023800  0.001000        NaN              NaN   \n",
      "23   NSSK0283 -0.098100  0.014400  0.031000        NaN              NaN   \n",
      "24   EWSK0284 -0.001900  0.028700 -0.001100        NaN              NaN   \n",
      "25   NSSK0285 -0.100100  0.011400  0.030000        NaN              NaN   \n",
      "26   EWSK0286  0.001100  0.024700  0.002900        NaN              NaN   \n",
      "27   NSSK0287 -0.099700  0.011100  0.032700        NaN              NaN   \n",
      "28   EWSK0288  0.000200  0.029200  0.001000        NaN              NaN   \n",
      "29   NSSK0289 -0.099700  0.009100  0.033700        NaN              NaN   \n",
      "..        ...       ...       ...       ...        ...              ...   \n",
      "525  NSSK0782 -0.125004 -0.008699  0.003671       JPM3              500   \n",
      "526  EWSK0783 -0.003476  0.031213 -0.002466        NaN              NaN   \n",
      "527  NSSK0784 -0.124924 -0.009597  0.006817       JPM3              520   \n",
      "528  EWSK0785 -0.005005  0.037670 -0.001151        NaN              NaN   \n",
      "529  NSSK0786 -0.125054 -0.010774  0.009877       JPM3              540   \n",
      "530  EWSK0787 -0.004303  0.032109 -0.002250        NaN              NaN   \n",
      "531  NSSK0788 -0.126759 -0.011097  0.017367       JPM3              520   \n",
      "532  NSSK0789 -0.129692 -0.010612  0.020745       JPM3              520   \n",
      "533  EWSK0790 -0.004677  0.030823 -0.001524        NaN              NaN   \n",
      "534  NSSK0791 -0.133742 -0.009534  0.025500       JPM3              560   \n",
      "535  EWSK0792 -0.000135 -0.027713 -0.000225        NaN              NaN   \n",
      "536  NSSK0793 -0.148681 -0.010513  0.042423       JPM3              540   \n",
      "537  EWSK0794 -0.000872 -0.016219 -0.001139        NaN              NaN   \n",
      "538  NSSK0795 -0.151820 -0.008151  0.037254        NaN  JPM'S Suspended   \n",
      "539  EWSK0796 -0.000502 -0.014170 -0.000298        NaN              NaN   \n",
      "540  NSSK0797 -0.153733 -0.005332  0.031327        NaN              NaN   \n",
      "541  EWSK0798 -0.006721 -0.037776  0.004944        NaN              NaN   \n",
      "542  NSSK0799 -0.155029 -0.001094  0.014565        NaN              NaN   \n",
      "543  EWSK0800 -0.001408 -0.019345 -0.000756        NaN              NaN   \n",
      "544  NSSK0801 -0.153458  0.000607  0.014499        NaN              NaN   \n",
      "545  EWSK0802 -0.003823 -0.022645 -0.000750        NaN              NaN   \n",
      "546  NSSK0803 -0.144847 -0.000456  0.023256        NaN              NaN   \n",
      "547  EWSK0804 -0.006473 -0.030176  0.001547        NaN              NaN   \n",
      "548  NSSK0805 -0.146353 -0.001591  0.032238        NaN              NaN   \n",
      "549  EWSK0806 -0.003697 -0.024262 -0.003558        NaN              NaN   \n",
      "550  NSSK0807 -0.143986 -0.003998  0.040984        NaN              NaN   \n",
      "551  EWSK0808 -0.000950 -0.021087 -0.005850        NaN              NaN   \n",
      "552  NSSK0809 -0.141242 -0.008020  0.048082        NaN              NaN   \n",
      "553  EWSK0810 -0.004414 -0.019994 -0.004163        NaN              NaN   \n",
      "554  NSSK0811 -0.142286 -0.012945  0.056209        NaN              NaN   \n",
      "\n",
      "              Unnamed: 6        Unnamed: 7  Unnamed: 8  Unnamed: 9  \n",
      "0                    NaN               NaN         NaN         NaN  \n",
      "1                    NaN               NaN         NaN         NaN  \n",
      "2                    NaN               NaN         NaN         NaN  \n",
      "3                    NaN               NaN         NaN         NaN  \n",
      "4                    NaN               NaN         NaN         NaN  \n",
      "5                    NaN               NaN         NaN         NaN  \n",
      "6                    NaN               NaN         NaN         NaN  \n",
      "7                    NaN               NaN         NaN         NaN  \n",
      "8                    NaN               NaN         NaN         NaN  \n",
      "9                    NaN               NaN         NaN         NaN  \n",
      "10                   NaN               NaN         NaN         NaN  \n",
      "11                   NaN               NaN         NaN         NaN  \n",
      "12                   NaN               NaN         NaN         NaN  \n",
      "13                   NaN               NaN         NaN         NaN  \n",
      "14                   NaN               NaN         NaN         NaN  \n",
      "15                   NaN               NaN         NaN         NaN  \n",
      "16                   NaN               NaN         NaN         NaN  \n",
      "17                   NaN               NaN         NaN         NaN  \n",
      "18                   NaN               NaN         NaN         NaN  \n",
      "19                   NaN               NaN         NaN         NaN  \n",
      "20                   NaN               NaN         NaN         NaN  \n",
      "21                   NaN               NaN         NaN         NaN  \n",
      "22                   NaN               NaN         NaN         NaN  \n",
      "23                   NaN               NaN         NaN         NaN  \n",
      "24                   NaN               NaN         NaN         NaN  \n",
      "25                   NaN               NaN         NaN         NaN  \n",
      "26                   NaN               NaN         NaN         NaN  \n",
      "27                   NaN               NaN         NaN         NaN  \n",
      "28                   NaN               NaN         NaN         NaN  \n",
      "29                   NaN               NaN         NaN         NaN  \n",
      "..                   ...               ...         ...         ...  \n",
      "525           20/05/2025               NaN         NaN         NaN  \n",
      "526                  NaN               NaN         NaN         NaN  \n",
      "527           27/05/2025               NaN         NaN         NaN  \n",
      "528                  NaN               NaN         NaN         NaN  \n",
      "529  2025-10-06 00:00:00               NaN         NaN         NaN  \n",
      "530                  NaN               NaN         NaN         NaN  \n",
      "531            17/6/2025               NaN         NaN         NaN  \n",
      "532            24/6/2025               NaN         NaN         NaN  \n",
      "533                  NaN               NaN         NaN         NaN  \n",
      "534  2025-07-08 00:00:00  Segundo semestre         NaN         NaN  \n",
      "535                  NaN               NaN         NaN         NaN  \n",
      "536              15/7/25               NaN         NaN         NaN  \n",
      "537                  NaN               NaN         NaN         NaN  \n",
      "538                  NaN               NaN         NaN         NaN  \n",
      "539                  NaN               NaN         NaN         NaN  \n",
      "540                  NaN               NaN         NaN         NaN  \n",
      "541                  NaN               NaN         NaN         NaN  \n",
      "542                  NaN               NaN         NaN         NaN  \n",
      "543                  NaN               NaN         NaN         NaN  \n",
      "544                  NaN               NaN         NaN         NaN  \n",
      "545                  NaN               NaN         NaN         NaN  \n",
      "546                  NaN               NaN         NaN         NaN  \n",
      "547                  NaN               NaN         NaN         NaN  \n",
      "548                  NaN               NaN         NaN         NaN  \n",
      "549                  NaN               NaN         NaN         NaN  \n",
      "550                  NaN               NaN         NaN         NaN  \n",
      "551                  NaN               NaN         NaN         NaN  \n",
      "552                  NaN               NaN         NaN         NaN  \n",
      "553                  NaN               NaN         NaN         NaN  \n",
      "554                  NaN               NaN         NaN         NaN  \n",
      "\n",
      "[555 rows x 10 columns]\n"
     ]
    }
   ],
   "source": [
    "#df= pd.read_excel('SKMTool_dummy.xlsm', sheet_name= 'Historico') This way is incompatible with this pandas ver\n",
    "df= pd.read_excel('SKMTool_dummy.xlsm', 'Historico')\n",
    "print(df)\n",
    "#print(df[['Maniobra', 'Torque 1', 'Torque 2', 'Torque 3']])"
   ]
  },
  {
   "cell_type": "code",
   "execution_count": 90,
   "id": "93e312ec",
   "metadata": {
    "collapsed": true,
    "jupyter": {
     "outputs_hidden": true
    }
   },
   "outputs": [],
   "source": [
    "import pandas as pd\n",
    "\n",
    "def get_requested_torques(manv_ref):\n",
    "    df_historic= pd.read_excel('SKMTool_dummy.xlsm', 'Historico')\n",
    "    requested_torques= df_historic[df.Maniobra== manv_ref]\n",
    "    requested_torques[['Maniobra', 'Torque 1', 'Torque 2', 'Torque 3']]\n",
    "    #print(df)\n",
    "    return df_historic, requested_torques[['Maniobra', 'Torque 1', 'Torque 2', 'Torque 3']]"
   ]
  },
  {
   "cell_type": "code",
   "execution_count": 91,
   "id": "505c699e",
   "metadata": {
    "collapsed": false,
    "jupyter": {
     "outputs_hidden": false
    }
   },
   "outputs": [],
   "source": [
    "[df_historic,requested_torques]= get_requested_torques(manv_ref)"
   ]
  },
  {
   "cell_type": "code",
   "execution_count": 94,
   "id": "69e2a870",
   "metadata": {
    "collapsed": false,
    "jupyter": {
     "outputs_hidden": false
    },
    "scrolled": true
   },
   "outputs": [
    {
     "name": "stdout",
     "output_type": "stream",
     "text": [
      "     Maniobra  Torque 1  Torque 2  Torque 3\n",
      "554  NSSK0811 -0.142286 -0.012945  0.056209\n"
     ]
    }
   ],
   "source": [
    "print(requested_torques)"
   ]
  },
  {
   "cell_type": "code",
   "execution_count": 40,
   "id": "ca9bd6ee",
   "metadata": {
    "collapsed": false,
    "jupyter": {
     "outputs_hidden": false
    },
    "scrolled": true
   },
   "outputs": [
    {
     "data": {
      "text/plain": [
       "[0.0015112709446428551, -0.001275171920053749, 0.005914713588734078]"
      ]
     },
     "execution_count": 40,
     "metadata": {},
     "output_type": "execute_result"
    }
   ],
   "source": [
    "average_torques"
   ]
  },
  {
   "cell_type": "code",
   "execution_count": null,
   "id": "6bc3cadf",
   "metadata": {
    "collapsed": false,
    "jupyter": {
     "outputs_hidden": false
    }
   },
   "outputs": [],
   "source": [
    "#print(df.iloc[-1])"
   ]
  },
  {
   "cell_type": "code",
   "execution_count": null,
   "id": "b61b49ba",
   "metadata": {
    "collapsed": false,
    "jupyter": {
     "outputs_hidden": false
    }
   },
   "outputs": [],
   "source": [
    "requested_torques= df[df.Maniobra== manv_ref]\n",
    "requested_torques[['Maniobra', 'Torque 1', 'Torque 2', 'Torque 3']]"
   ]
  },
  {
   "cell_type": "code",
   "execution_count": null,
   "id": "e9b9b770",
   "metadata": {
    "collapsed": false,
    "jupyter": {
     "outputs_hidden": false
    }
   },
   "outputs": [],
   "source": [
    "requested_torques.iloc[0][0]"
   ]
  },
  {
   "cell_type": "markdown",
   "id": "676a1015",
   "metadata": {},
   "source": [
    "## Another way to get info of an excel file"
   ]
  },
  {
   "cell_type": "code",
   "execution_count": null,
   "id": "db5be834",
   "metadata": {
    "collapsed": false,
    "jupyter": {
     "outputs_hidden": false
    },
    "scrolled": true
   },
   "outputs": [],
   "source": [
    "import xlwings\n",
    "SA=xlwings.Book(\"SKMTool_dummy.xlsm\")\n",
    "sht=xlwings.Sheet(\"Historico\")\n",
    "Epoch=sht.range(\"A25:d50\").value\n",
    "print(Epoch)\n",
    "SA.close()"
   ]
  },
  {
   "cell_type": "markdown",
   "id": "8c6c049b",
   "metadata": {},
   "source": [
    "## Continue"
   ]
  },
  {
   "cell_type": "code",
   "execution_count": null,
   "id": "2033a1c9",
   "metadata": {
    "collapsed": false,
    "jupyter": {
     "outputs_hidden": false
    },
    "scrolled": true
   },
   "outputs": [],
   "source": [
    "dir(requested_torques)"
   ]
  },
  {
   "cell_type": "code",
   "execution_count": null,
   "id": "87975f26",
   "metadata": {
    "collapsed": false,
    "jupyter": {
     "outputs_hidden": false
    }
   },
   "outputs": [],
   "source": [
    "requested_torques.values[0][1:4]"
   ]
  },
  {
   "cell_type": "code",
   "execution_count": null,
   "id": "f300d1e5",
   "metadata": {
    "collapsed": false,
    "jupyter": {
     "outputs_hidden": false
    }
   },
   "outputs": [],
   "source": [
    "average_torques[0]+float(requested_torques.values[0][1])"
   ]
  },
  {
   "cell_type": "code",
   "execution_count": null,
   "id": "a731125b",
   "metadata": {
    "collapsed": false,
    "jupyter": {
     "outputs_hidden": false
    }
   },
   "outputs": [],
   "source": [
    "new_values= average_torques[0]+requested_torques.iloc[0][1]\n",
    "print(new_values)"
   ]
  },
  {
   "cell_type": "code",
   "execution_count": null,
   "id": "11ae203a",
   "metadata": {
    "collapsed": false,
    "jupyter": {
     "outputs_hidden": false
    }
   },
   "outputs": [],
   "source": [
    "new_values=[average_torques[i]+requested_torques.iloc[0][i+1] for i in range(3)]\n",
    "\n",
    "print(new_values)"
   ]
  },
  {
   "cell_type": "markdown",
   "id": "7ebde64a",
   "metadata": {},
   "source": [
    "## Suma"
   ]
  },
  {
   "cell_type": "code",
   "execution_count": 56,
   "id": "fa1f0880",
   "metadata": {
    "collapsed": false,
    "jupyter": {
     "outputs_hidden": false
    }
   },
   "outputs": [
    {
     "name": "stdout",
     "output_type": "stream",
     "text": [
      "['NSSK0812', -0.14077427694943861, -0.014219976805559776, 0.062123980702140473]\n"
     ]
    }
   ],
   "source": [
    "new_values= []\n",
    "for i in range(3):\n",
    "    #print(i)\n",
    "    value= average_torques[i]+requested_torques.iloc[0][i+1]\n",
    "    new_values.append(value)\n",
    "\n",
    "#print(new_values)\n",
    "new_values.insert(0, manv)\n",
    "print(new_values)\n",
    "\n",
    "    "
   ]
  },
  {
   "cell_type": "code",
   "execution_count": 66,
   "id": "d865b45c",
   "metadata": {
    "collapsed": true,
    "jupyter": {
     "outputs_hidden": true
    }
   },
   "outputs": [],
   "source": [
    "def get_new_values(manv, average_torques, requested_torques):\n",
    "    new_values= []\n",
    "    for i in range(3):\n",
    "        #print(i)\n",
    "        value= average_torques[i]+requested_torques.iloc[0][i+1]\n",
    "        new_values.append(value)\n",
    "\n",
    "    #print(new_values)\n",
    "    new_values.insert(0, manv)\n",
    "    return new_values\n",
    "    "
   ]
  },
  {
   "cell_type": "code",
   "execution_count": 67,
   "id": "016f7d8a",
   "metadata": {
    "collapsed": false,
    "jupyter": {
     "outputs_hidden": false
    }
   },
   "outputs": [],
   "source": [
    "new_values= get_new_values(manv, average_torques, requested_torques)"
   ]
  },
  {
   "cell_type": "code",
   "execution_count": 57,
   "id": "5352c89c",
   "metadata": {
    "collapsed": false,
    "jupyter": {
     "outputs_hidden": false
    },
    "scrolled": true
   },
   "outputs": [
    {
     "name": "stdout",
     "output_type": "stream",
     "text": [
      "Quieres agregar estos nuevos valores al Historico del SKMTool?: \n",
      "'NSSK0812', -0.14077427694943861, -0.014219976805559776, 0.062123980702140473\n",
      "n\n"
     ]
    }
   ],
   "source": [
    "answer= input(\"Quieres agregar estos nuevos valores al Historico del SKMTool?: \\n\" +str(new_values)[1:-1]+ \"\\n\")"
   ]
  },
  {
   "cell_type": "code",
   "execution_count": 103,
   "id": "9fe5eae8",
   "metadata": {
    "collapsed": true,
    "jupyter": {
     "outputs_hidden": true
    }
   },
   "outputs": [],
   "source": [
    "import xlwings as xw\n",
    "\n",
    "def make_a_decision(new_values, df_historic):\n",
    "    answer= input(\"Quieres agregar estos nuevos valores al Historico del SKMTool?: (si/no)\\n\" +str(new_values)[1:-1]+ \"\\n\")\n",
    "    if answer.lower().replace(' ','') == 'si':\n",
    "        #print('Dentro del if')\n",
    "        new_row_data={'Maniobra':new_values[0],'Torque 1':new_values[1],'Torque 2':new_values[2],'Torque 3':new_values[3]}\n",
    "        #print(new_row_data)\n",
    "        df_new_values= pd.concat([df_historic, pd.DataFrame([new_row_data])], ignore_index= True)\n",
    "        print(df_new_values)\n",
    "    \n",
    "        wb= xw.Book('SKMTool_dummy - Copy.xlsm')\n",
    "        #wb= wb.books.active\n",
    "        sheet= wb.sheets['Historico']\n",
    "        sheet.range('A'+str(len(df_new_values)+1)).value= new_values[0]\n",
    "        sheet.range('B'+str(len(df_new_values)+1)).value= new_values[1]\n",
    "        sheet.range('C'+str(len(df_new_values)+1)).value= new_values[2]\n",
    "        sheet.range('D'+str(len(df_new_values)+1)).value= new_values[3]\n",
    "        #sheet.range('A'+str(len(df_new_values)+1)+\":D\"+str(len(df_new_values)+1)).value= new_values\n",
    "\n",
    "        wb.save()\n",
    "        wb.close()\n",
    "        "
   ]
  },
  {
   "cell_type": "code",
   "execution_count": 104,
   "id": "da25a012",
   "metadata": {
    "collapsed": false,
    "jupyter": {
     "outputs_hidden": false
    }
   },
   "outputs": [
    {
     "name": "stdout",
     "output_type": "stream",
     "text": [
      "Quieres agregar estos nuevos valores al Historico del SKMTool?: (si/no)\n",
      "'NSSK0812', -0.14077427694943861, -0.014219976805559776, 0.062123980702140473\n",
      "si\n",
      "     Maniobra  Torque 1  Torque 2  Torque 3 Unnamed: 4       Unnamed: 5  \\\n",
      "0     EWSK260  0.000800  0.026800 -0.000600        NaN              NaN   \n",
      "1    NSSK0261 -0.133300 -0.008300 -0.026800        NaN              NaN   \n",
      "2    EWSK0262  0.005000 -0.006000 -0.001000        NaN              NaN   \n",
      "3    NSSK0263 -0.108300 -0.007200 -0.016600        NaN              NaN   \n",
      "4    EWSK0264  0.000800  0.026800  0.000600        NaN              NaN   \n",
      "5    NSSK0265 -0.103300 -0.007200 -0.018600        NaN              NaN   \n",
      "6    NSSK0266 -0.098200  0.005400  0.049700        NaN              NaN   \n",
      "7    EWSK0267 -0.001000  0.025300 -0.000300        NaN              NaN   \n",
      "8    NSSK0268 -0.123000  0.003400  0.064700        NaN              NaN   \n",
      "9    EWSK0269 -0.001000  0.021300 -0.000800        NaN              NaN   \n",
      "10   NSSK0270 -0.129000  0.005900  0.062500        NaN              NaN   \n",
      "11   EWSK0271  0.000500  0.022900 -0.000700        NaN              NaN   \n",
      "12   NSSK0272 -0.134000  0.010900  0.044000        NaN              NaN   \n",
      "13   EWSK0273  0.004500  0.019900 -0.001700        NaN              NaN   \n",
      "14   NSSK0274 -0.133100  0.012300  0.021300        NaN              NaN   \n",
      "15   EWSK0275  0.001800  0.026900 -0.000500        NaN              NaN   \n",
      "16   EWSK0276 -0.010200 -0.021900 -0.006000        NaN              NaN   \n",
      "17   NSSK0277 -0.123100  0.016300  0.013300        NaN              NaN   \n",
      "18   EWSK0278 -0.000700  0.021900  0.022400        NaN              NaN   \n",
      "19   NSSK0279 -0.110200  0.015600  0.018100        NaN              NaN   \n",
      "20   EWSK0280 -0.002400  0.028800  0.004000        NaN              NaN   \n",
      "21   NSSK0281 -0.100200  0.016600  0.024100        NaN              NaN   \n",
      "22   EWSK0282 -0.007400  0.023800  0.001000        NaN              NaN   \n",
      "23   NSSK0283 -0.098100  0.014400  0.031000        NaN              NaN   \n",
      "24   EWSK0284 -0.001900  0.028700 -0.001100        NaN              NaN   \n",
      "25   NSSK0285 -0.100100  0.011400  0.030000        NaN              NaN   \n",
      "26   EWSK0286  0.001100  0.024700  0.002900        NaN              NaN   \n",
      "27   NSSK0287 -0.099700  0.011100  0.032700        NaN              NaN   \n",
      "28   EWSK0288  0.000200  0.029200  0.001000        NaN              NaN   \n",
      "29   NSSK0289 -0.099700  0.009100  0.033700        NaN              NaN   \n",
      "..        ...       ...       ...       ...        ...              ...   \n",
      "526  EWSK0783 -0.003476  0.031213 -0.002466        NaN              NaN   \n",
      "527  NSSK0784 -0.124924 -0.009597  0.006817       JPM3              520   \n",
      "528  EWSK0785 -0.005005  0.037670 -0.001151        NaN              NaN   \n",
      "529  NSSK0786 -0.125054 -0.010774  0.009877       JPM3              540   \n",
      "530  EWSK0787 -0.004303  0.032109 -0.002250        NaN              NaN   \n",
      "531  NSSK0788 -0.126759 -0.011097  0.017367       JPM3              520   \n",
      "532  NSSK0789 -0.129692 -0.010612  0.020745       JPM3              520   \n",
      "533  EWSK0790 -0.004677  0.030823 -0.001524        NaN              NaN   \n",
      "534  NSSK0791 -0.133742 -0.009534  0.025500       JPM3              560   \n",
      "535  EWSK0792 -0.000135 -0.027713 -0.000225        NaN              NaN   \n",
      "536  NSSK0793 -0.148681 -0.010513  0.042423       JPM3              540   \n",
      "537  EWSK0794 -0.000872 -0.016219 -0.001139        NaN              NaN   \n",
      "538  NSSK0795 -0.151820 -0.008151  0.037254        NaN  JPM'S Suspended   \n",
      "539  EWSK0796 -0.000502 -0.014170 -0.000298        NaN              NaN   \n",
      "540  NSSK0797 -0.153733 -0.005332  0.031327        NaN              NaN   \n",
      "541  EWSK0798 -0.006721 -0.037776  0.004944        NaN              NaN   \n",
      "542  NSSK0799 -0.155029 -0.001094  0.014565        NaN              NaN   \n",
      "543  EWSK0800 -0.001408 -0.019345 -0.000756        NaN              NaN   \n",
      "544  NSSK0801 -0.153458  0.000607  0.014499        NaN              NaN   \n",
      "545  EWSK0802 -0.003823 -0.022645 -0.000750        NaN              NaN   \n",
      "546  NSSK0803 -0.144847 -0.000456  0.023256        NaN              NaN   \n",
      "547  EWSK0804 -0.006473 -0.030176  0.001547        NaN              NaN   \n",
      "548  NSSK0805 -0.146353 -0.001591  0.032238        NaN              NaN   \n",
      "549  EWSK0806 -0.003697 -0.024262 -0.003558        NaN              NaN   \n",
      "550  NSSK0807 -0.143986 -0.003998  0.040984        NaN              NaN   \n",
      "551  EWSK0808 -0.000950 -0.021087 -0.005850        NaN              NaN   \n",
      "552  NSSK0809 -0.141242 -0.008020  0.048082        NaN              NaN   \n",
      "553  EWSK0810 -0.004414 -0.019994 -0.004163        NaN              NaN   \n",
      "554  NSSK0811 -0.142286 -0.012945  0.056209        NaN              NaN   \n",
      "555  NSSK0812 -0.140774 -0.014220  0.062124        NaN              NaN   \n",
      "\n",
      "              Unnamed: 6        Unnamed: 7  Unnamed: 8  Unnamed: 9  \n",
      "0                    NaN               NaN         NaN         NaN  \n",
      "1                    NaN               NaN         NaN         NaN  \n",
      "2                    NaN               NaN         NaN         NaN  \n",
      "3                    NaN               NaN         NaN         NaN  \n",
      "4                    NaN               NaN         NaN         NaN  \n",
      "5                    NaN               NaN         NaN         NaN  \n",
      "6                    NaN               NaN         NaN         NaN  \n",
      "7                    NaN               NaN         NaN         NaN  \n",
      "8                    NaN               NaN         NaN         NaN  \n",
      "9                    NaN               NaN         NaN         NaN  \n",
      "10                   NaN               NaN         NaN         NaN  \n",
      "11                   NaN               NaN         NaN         NaN  \n",
      "12                   NaN               NaN         NaN         NaN  \n",
      "13                   NaN               NaN         NaN         NaN  \n",
      "14                   NaN               NaN         NaN         NaN  \n",
      "15                   NaN               NaN         NaN         NaN  \n",
      "16                   NaN               NaN         NaN         NaN  \n",
      "17                   NaN               NaN         NaN         NaN  \n",
      "18                   NaN               NaN         NaN         NaN  \n",
      "19                   NaN               NaN         NaN         NaN  \n",
      "20                   NaN               NaN         NaN         NaN  \n",
      "21                   NaN               NaN         NaN         NaN  \n",
      "22                   NaN               NaN         NaN         NaN  \n",
      "23                   NaN               NaN         NaN         NaN  \n",
      "24                   NaN               NaN         NaN         NaN  \n",
      "25                   NaN               NaN         NaN         NaN  \n",
      "26                   NaN               NaN         NaN         NaN  \n",
      "27                   NaN               NaN         NaN         NaN  \n",
      "28                   NaN               NaN         NaN         NaN  \n",
      "29                   NaN               NaN         NaN         NaN  \n",
      "..                   ...               ...         ...         ...  \n",
      "526                  NaN               NaN         NaN         NaN  \n",
      "527           27/05/2025               NaN         NaN         NaN  \n",
      "528                  NaN               NaN         NaN         NaN  \n",
      "529  2025-10-06 00:00:00               NaN         NaN         NaN  \n",
      "530                  NaN               NaN         NaN         NaN  \n",
      "531            17/6/2025               NaN         NaN         NaN  \n",
      "532            24/6/2025               NaN         NaN         NaN  \n",
      "533                  NaN               NaN         NaN         NaN  \n",
      "534  2025-07-08 00:00:00  Segundo semestre         NaN         NaN  \n",
      "535                  NaN               NaN         NaN         NaN  \n",
      "536              15/7/25               NaN         NaN         NaN  \n",
      "537                  NaN               NaN         NaN         NaN  \n",
      "538                  NaN               NaN         NaN         NaN  \n",
      "539                  NaN               NaN         NaN         NaN  \n",
      "540                  NaN               NaN         NaN         NaN  \n",
      "541                  NaN               NaN         NaN         NaN  \n",
      "542                  NaN               NaN         NaN         NaN  \n",
      "543                  NaN               NaN         NaN         NaN  \n",
      "544                  NaN               NaN         NaN         NaN  \n",
      "545                  NaN               NaN         NaN         NaN  \n",
      "546                  NaN               NaN         NaN         NaN  \n",
      "547                  NaN               NaN         NaN         NaN  \n",
      "548                  NaN               NaN         NaN         NaN  \n",
      "549                  NaN               NaN         NaN         NaN  \n",
      "550                  NaN               NaN         NaN         NaN  \n",
      "551                  NaN               NaN         NaN         NaN  \n",
      "552                  NaN               NaN         NaN         NaN  \n",
      "553                  NaN               NaN         NaN         NaN  \n",
      "554                  NaN               NaN         NaN         NaN  \n",
      "555                  NaN               NaN         NaN         NaN  \n",
      "\n",
      "[556 rows x 10 columns]\n"
     ]
    }
   ],
   "source": [
    "make_a_decision(new_values, df_historic)"
   ]
  },
  {
   "cell_type": "code",
   "execution_count": null,
   "id": "6064ed79",
   "metadata": {
    "collapsed": false,
    "jupyter": {
     "outputs_hidden": false
    }
   },
   "outputs": [],
   "source": [
    "#print(dir(answer))\n",
    "print(answer.lower().replace(' ',''))\n",
    "\n",
    "if answer == 'si':\n",
    "    print('Dentro del if')"
   ]
  },
  {
   "cell_type": "code",
   "execution_count": 23,
   "id": "aa2455db",
   "metadata": {
    "collapsed": false,
    "jupyter": {
     "outputs_hidden": false
    }
   },
   "outputs": [
    {
     "name": "stdout",
     "output_type": "stream",
     "text": [
      "{'Maniobra': 'NSSK0812', 'Torque 1': -0.14077427694943861, 'Torque 2': -0.014219976805559776, 'Torque 3': 0.062123980702140473}\n"
     ]
    }
   ],
   "source": [
    "new_row_data={'Maniobra':new_values[0],'Torque 1':new_values[1],'Torque 2':new_values[2],'Torque 3':new_values[3]}\n",
    "print(new_row_data)"
   ]
  },
  {
   "cell_type": "code",
   "execution_count": 98,
   "id": "1733c1ae",
   "metadata": {
    "collapsed": false,
    "jupyter": {
     "outputs_hidden": false
    }
   },
   "outputs": [
    {
     "ename": "NameError",
     "evalue": "name 'new_row_data' is not defined",
     "output_type": "error",
     "traceback": [
      "\u001b[0;31m---------------------------------------------------------------------------\u001b[0m",
      "\u001b[0;31mNameError\u001b[0m                                 Traceback (most recent call last)",
      "\u001b[0;32m<ipython-input-98-7f3813308001>\u001b[0m in \u001b[0;36m<module>\u001b[0;34m()\u001b[0m\n\u001b[0;32m----> 1\u001b[0;31m \u001b[0mdf_new_values\u001b[0m\u001b[1;33m=\u001b[0m \u001b[0mpd\u001b[0m\u001b[1;33m.\u001b[0m\u001b[0mconcat\u001b[0m\u001b[1;33m(\u001b[0m\u001b[1;33m[\u001b[0m\u001b[0mdf\u001b[0m\u001b[1;33m,\u001b[0m \u001b[0mpd\u001b[0m\u001b[1;33m.\u001b[0m\u001b[0mDataFrame\u001b[0m\u001b[1;33m(\u001b[0m\u001b[1;33m[\u001b[0m\u001b[0mnew_row_data\u001b[0m\u001b[1;33m]\u001b[0m\u001b[1;33m)\u001b[0m\u001b[1;33m]\u001b[0m\u001b[1;33m,\u001b[0m \u001b[0mignore_index\u001b[0m\u001b[1;33m=\u001b[0m \u001b[1;32mTrue\u001b[0m\u001b[1;33m)\u001b[0m\u001b[1;33m\u001b[0m\u001b[0m\n\u001b[0m\u001b[1;32m      2\u001b[0m \u001b[0mprint\u001b[0m\u001b[1;33m(\u001b[0m\u001b[0mdf_new_values\u001b[0m\u001b[1;33m)\u001b[0m\u001b[1;33m\u001b[0m\u001b[0m\n",
      "\u001b[0;31mNameError\u001b[0m: name 'new_row_data' is not defined"
     ]
    }
   ],
   "source": [
    "df_new_values= pd.concat([df, pd.DataFrame([new_row_data])], ignore_index= True)\n",
    "print(df_new_values)"
   ]
  },
  {
   "cell_type": "code",
   "execution_count": null,
   "id": "5400689b",
   "metadata": {
    "collapsed": false,
    "jupyter": {
     "outputs_hidden": false
    }
   },
   "outputs": [],
   "source": [
    "from openpyxl import load_workbook\n",
    "\n",
    "try:\n",
    "    book= load_workbook(\"SKMTool_dummy - Copy.xlsm\")\n",
    "except FileNotFoundError:\n",
    "    print(\"File not found\")\n",
    "\n",
    "with pd.ExcelWriter(\"SKMTool_dummy - Copy.xlsm\", engine=\"openpyxl\", keep_vba= True) as writer:\n",
    "    writer.book= book\n",
    "    writer.vba_archive= book.vba_archive\n",
    "    writer.sheets= dict((ws.title, ws) for ws in book.worksheets)\n",
    "    df_new_values.to_excel(writer, sheet_name= \"Historico\", index=False)\n",
    "    writer.close()"
   ]
  },
  {
   "cell_type": "code",
   "execution_count": null,
   "id": "2211ee92",
   "metadata": {
    "collapsed": false,
    "jupyter": {
     "outputs_hidden": false
    }
   },
   "outputs": [],
   "source": [
    "with pd.ExcelWriter(\n",
    "    \"SKMTool_dummy - Copy.xlsm\",\n",
    "    engine=\"openpyxl\",\n",
    "    mode= \"a\",\n",
    "    engine_kwargs={\"keep_vba\": True}\n",
    ")as writer:\n",
    "    df_new_values.to_excel(writer, sheet_name= \"Historico\")"
   ]
  },
  {
   "cell_type": "code",
   "execution_count": null,
   "id": "c468e21e",
   "metadata": {
    "collapsed": false,
    "jupyter": {
     "outputs_hidden": false
    }
   },
   "outputs": [],
   "source": [
    "#import xlsxwriter, xlwings\n",
    "import openpyxl\n",
    "df_new_values.to_excel(excel_writer, 'SKMTool_dummy - Copy.xlsm', 'Historico', index=False)"
   ]
  },
  {
   "cell_type": "code",
   "execution_count": null,
   "id": "12260a35",
   "metadata": {
    "collapsed": false,
    "jupyter": {
     "outputs_hidden": false
    }
   },
   "outputs": [],
   "source": [
    "import xlsxwriter\n",
    "import os\n",
    "\n",
    "excel_file= 'test.xlsx'\n",
    "\n",
    "if os.path.exists(excel_file):\n",
    "    os.remove(excel_file)\n",
    "    \n",
    "workbook= xlsxwriter.Workbook(excel_file)\n",
    "worksheet= workbook.add_worksheet()\n",
    "\n",
    "worksheet.write('A1', 'Hello')\n",
    "worksheet.write('B1', 'Puto')\n",
    "\n",
    "workbook.close()"
   ]
  },
  {
   "cell_type": "code",
   "execution_count": 25,
   "id": "2e12e263",
   "metadata": {
    "collapsed": false,
    "jupyter": {
     "outputs_hidden": false
    }
   },
   "outputs": [],
   "source": [
    "import xlwings as xw\n",
    "\n",
    "wob= xw.Book('SKMTool_dummy - Copy.xlsm')\n",
    "\n",
    "#wb= wb.books.active\n",
    "\n",
    "sheet= wob.sheets['Historico']\n",
    "\n",
    "sheet.range('A'+str(len(df_new_values)+1)).value= new_values[0]\n",
    "sheet.range('B'+str(len(df_new_values)+1)).value= new_values[1]\n",
    "sheet.range('C'+str(len(df_new_values)+1)).value= new_values[2]\n",
    "sheet.range('D'+str(len(df_new_values)+1)).value= new_values[3]\n",
    "#sheet.range('A'+str(len(df_new_values)+1)+\":D\"+str(len(df_new_values)+1)).value= new_values\n",
    "\n",
    "wob.save()\n",
    "wob.close()\n",
    "\n"
   ]
  },
  {
   "cell_type": "code",
   "execution_count": null,
   "id": "17d54d32",
   "metadata": {
    "collapsed": true,
    "jupyter": {
     "outputs_hidden": true
    }
   },
   "outputs": [],
   "source": [
    "mx3_EWSK0812_PLAN.rpt #Plan (manv - a calcular)\n",
    "\n",
    "IGNITION\n",
    "CUTOFF\n",
    "tHRUSTER CFG\n",
    "Thrusters sec TOTAL\n",
    "\n"
   ]
  },
  {
   "cell_type": "code",
   "execution_count": null,
   "id": "c9049747",
   "metadata": {
    "collapsed": true,
    "jupyter": {
     "outputs_hidden": true
    }
   },
   "outputs": [],
   "source": [
    "SET DE IMPULSORES (LISTA)\n",
    "\n",
    "SKMTool ... ATTITUDE_CONTROL_THRUSTER \n",
    "Las opciones para los thrusters de control son los siguientes"
   ]
  },
  {
   "cell_type": "code",
   "execution_count": 148,
   "id": "35acd726",
   "metadata": {
    "collapsed": true,
    "jupyter": {
     "outputs_hidden": true
    }
   },
   "outputs": [],
   "source": [
    "manv= \"EWSK0812\"\n",
    "manvRef= \"EWSK0810\""
   ]
  },
  {
   "cell_type": "code",
   "execution_count": 152,
   "id": "c01bd8b7",
   "metadata": {
    "collapsed": false,
    "jupyter": {
     "outputs_hidden": false
    }
   },
   "outputs": [],
   "source": [
    "def get_file(option):\n",
    "    if option == \"EWSK0812\":\n",
    "        print(manv)\n",
    "        #return manv\n",
    "    elif option == \"EWSK0810\":\n",
    "        print(manvRef)\n",
    "        #return manvRef\n",
    "        "
   ]
  },
  {
   "cell_type": "code",
   "execution_count": 153,
   "id": "99205b89",
   "metadata": {
    "collapsed": false,
    "jupyter": {
     "outputs_hidden": false
    }
   },
   "outputs": [
    {
     "name": "stdout",
     "output_type": "stream",
     "text": [
      "EWSK0812\n"
     ]
    }
   ],
   "source": [
    "get_file(manv)"
   ]
  },
  {
   "cell_type": "code",
   "execution_count": 154,
   "id": "417c7677",
   "metadata": {
    "collapsed": false,
    "jupyter": {
     "outputs_hidden": false
    }
   },
   "outputs": [
    {
     "name": "stdout",
     "output_type": "stream",
     "text": [
      "EWSK0810\n"
     ]
    }
   ],
   "source": [
    "get_file(manvRef)"
   ]
  },
  {
   "cell_type": "code",
   "execution_count": 155,
   "id": "72dc6816",
   "metadata": {
    "collapsed": false,
    "jupyter": {
     "outputs_hidden": false
    }
   },
   "outputs": [
    {
     "name": "stdout",
     "output_type": "stream",
     "text": [
      "Test1\n",
      "<class 'str'>\n"
     ]
    }
   ],
   "source": [
    "respuesta=input(\"Test\")\n",
    "print(type(respuesta))"
   ]
  },
  {
   "cell_type": "code",
   "execution_count": 157,
   "id": "c206957f",
   "metadata": {
    "collapsed": false,
    "jupyter": {
     "outputs_hidden": false
    }
   },
   "outputs": [
    {
     "data": {
      "text/plain": [
       "str"
      ]
     },
     "execution_count": 157,
     "metadata": {},
     "output_type": "execute_result"
    }
   ],
   "source": [
    "type(str(1))"
   ]
  },
  {
   "cell_type": "code",
   "execution_count": 162,
   "id": "baf4836b",
   "metadata": {
    "collapsed": false,
    "jupyter": {
     "outputs_hidden": false
    }
   },
   "outputs": [
    {
     "name": "stdout",
     "output_type": "stream",
     "text": [
      "1\n",
      "2\n",
      "4\n"
     ]
    }
   ],
   "source": [
    "a=[1,2,4]\n",
    "\n",
    "for i in range(0, len(a)):\n",
    "    print(a[i])"
   ]
  },
  {
   "cell_type": "code",
   "execution_count": 166,
   "id": "d7e8ba52",
   "metadata": {
    "collapsed": false,
    "jupyter": {
     "outputs_hidden": false
    }
   },
   "outputs": [
    {
     "name": "stdout",
     "output_type": "stream",
     "text": [
      "[0, 1, 2]\n"
     ]
    }
   ],
   "source": [
    "b=list(range(len(a)))\n",
    "print(b)"
   ]
  },
  {
   "cell_type": "code",
   "execution_count": 221,
   "id": "48e9a2bf",
   "metadata": {
    "collapsed": false,
    "jupyter": {
     "outputs_hidden": false
    }
   },
   "outputs": [
    {
     "name": "stdout",
     "output_type": "stream",
     "text": [
      "2025-10-17-13-38-10-003\n"
     ]
    }
   ],
   "source": [
    "ignition=[('2025', '10', '17', '13', '38', '10', '003')]\n",
    "#print('-'.join(ignition[0]))\n",
    "date_='-'.join(ignition[0])\n",
    "print(date_)"
   ]
  },
  {
   "cell_type": "code",
   "execution_count": 197,
   "id": "370d0aa7",
   "metadata": {
    "collapsed": false,
    "jupyter": {
     "outputs_hidden": false
    }
   },
   "outputs": [
    {
     "name": "stdout",
     "output_type": "stream",
     "text": [
      "['__add__', '__class__', '__delattr__', '__dir__', '__doc__', '__eq__', '__format__', '__ge__', '__getattribute__', '__gt__', '__hash__', '__init__', '__init_subclass__', '__le__', '__lt__', '__ne__', '__new__', '__radd__', '__reduce__', '__reduce_ex__', '__repr__', '__rsub__', '__setattr__', '__sizeof__', '__str__', '__sub__', '__subclasshook__', 'astimezone', 'combine', 'ctime', 'date', 'day', 'dst', 'fold', 'fromordinal', 'fromtimestamp', 'hour', 'isocalendar', 'isoformat', 'isoweekday', 'max', 'microsecond', 'min', 'minute', 'month', 'now', 'replace', 'resolution', 'second', 'strftime', 'strptime', 'time', 'timestamp', 'timetuple', 'timetz', 'today', 'toordinal', 'tzinfo', 'tzname', 'utcfromtimestamp', 'utcnow', 'utcoffset', 'utctimetuple', 'weekday', 'year']\n",
      "3\n"
     ]
    }
   ],
   "source": [
    "from datetime import datetime\n",
    "\n",
    "print(dir(datetime))\n",
    "print(datetime.now().weekday())"
   ]
  },
  {
   "cell_type": "code",
   "execution_count": 226,
   "id": "0867ba58",
   "metadata": {
    "collapsed": false,
    "jupyter": {
     "outputs_hidden": false
    }
   },
   "outputs": [
    {
     "name": "stdout",
     "output_type": "stream",
     "text": [
      "2025-10-17 13:38:10.003000\n",
      "2025-290-13-38-10\n"
     ]
    }
   ],
   "source": [
    "my_date= datetime.strptime(date_, \"%Y-%m-%d-%H-%M-%S-%f\")\n",
    "print(my_date)\n",
    "print(my_date.strftime(\"%Y-%j-%H-%M-%S\"))"
   ]
  },
  {
   "cell_type": "code",
   "execution_count": 235,
   "id": "3ac3598f",
   "metadata": {
    "collapsed": false,
    "jupyter": {
     "outputs_hidden": false
    }
   },
   "outputs": [
    {
     "name": "stdout",
     "output_type": "stream",
     "text": [
      "2025-10-17 13:38:10.003000\n",
      "2025-290-13-38-10\n"
     ]
    }
   ],
   "source": [
    "my_date= datetime(int(ignition[0][0]),int(ignition[0][1]),int(ignition[0][2]),int(ignition[0][3]),int(ignition[0][4]),int(ignition[0][5]))\n",
    "print(my_date)\n",
    "print(my_date.strftime(\"%Y-%j-%H-%M-%S\"))"
   ]
  },
  {
   "cell_type": "code",
   "execution_count": 231,
   "id": "89697eb7",
   "metadata": {
    "collapsed": false,
    "jupyter": {
     "outputs_hidden": false
    }
   },
   "outputs": [
    {
     "data": {
      "text/plain": [
       "'10'"
      ]
     },
     "execution_count": 231,
     "metadata": {},
     "output_type": "execute_result"
    }
   ],
   "source": [
    "ignition[0][1]"
   ]
  },
  {
   "cell_type": "code",
   "execution_count": 236,
   "id": "d9acaa92",
   "metadata": {
    "collapsed": true,
    "jupyter": {
     "outputs_hidden": true
    }
   },
   "outputs": [],
   "source": [
    "a=0.123456789"
   ]
  },
  {
   "cell_type": "code",
   "execution_count": 242,
   "id": "35c92956",
   "metadata": {
    "collapsed": false,
    "jupyter": {
     "outputs_hidden": false
    }
   },
   "outputs": [
    {
     "ename": "AttributeError",
     "evalue": "'float' object has no attribute 'format'",
     "output_type": "error",
     "traceback": [
      "\u001b[0;31m---------------------------------------------------------------------------\u001b[0m",
      "\u001b[0;31mAttributeError\u001b[0m                            Traceback (most recent call last)",
      "\u001b[0;32m<ipython-input-242-020583424bc1>\u001b[0m in \u001b[0;36m<module>\u001b[0;34m()\u001b[0m\n\u001b[0;32m----> 1\u001b[0;31m \u001b[0ma\u001b[0m\u001b[1;33m.\u001b[0m\u001b[0mformat\u001b[0m\u001b[1;33m(\u001b[0m\u001b[1;34m\"%.4f\"\u001b[0m\u001b[1;33m)\u001b[0m\u001b[1;33m\u001b[0m\u001b[0m\n\u001b[0m",
      "\u001b[0;31mAttributeError\u001b[0m: 'float' object has no attribute 'format'"
     ]
    }
   ],
   "source": [
    "a.format(\"%.4f\")"
   ]
  },
  {
   "cell_type": "code",
   "execution_count": 246,
   "id": "120df99e",
   "metadata": {
    "collapsed": false,
    "jupyter": {
     "outputs_hidden": false
    }
   },
   "outputs": [
    {
     "data": {
      "text/plain": [
       "'0.1235'"
      ]
     },
     "execution_count": 246,
     "metadata": {},
     "output_type": "execute_result"
    }
   ],
   "source": [
    "format(a,\".4f\")"
   ]
  },
  {
   "cell_type": "code",
   "execution_count": null,
   "id": "3bfc16f2",
   "metadata": {
    "collapsed": true,
    "jupyter": {
     "outputs_hidden": true
    }
   },
   "outputs": [],
   "source": []
  }
 ],
 "metadata": {
  "kernelspec": {
   "display_name": "Python 3 (ipykernel)",
   "language": "python",
   "name": "python3"
  },
  "language_info": {
   "codemirror_mode": {
    "name": "ipython",
    "version": 3
   },
   "file_extension": ".py",
   "mimetype": "text/x-python",
   "name": "python",
   "nbconvert_exporter": "python",
   "pygments_lexer": "ipython3",
   "version": "3.12.7"
  }
 },
 "nbformat": 4,
 "nbformat_minor": 5
}
